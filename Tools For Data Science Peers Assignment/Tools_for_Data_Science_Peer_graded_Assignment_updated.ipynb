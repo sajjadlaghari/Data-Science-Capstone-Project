{
  "cells": [
    {
      "cell_type": "markdown",
      "id": "faf745f0",
      "metadata": {
        "id": "faf745f0"
      },
      "source": [
        "<H1>My Name is Sajjad Ali<H1>\n",
        "<H1>My Jupyter Notebook on Google Colab<H1>"
      ]
    },
    {
      "cell_type": "markdown",
      "id": "d00ce2ec",
      "metadata": {
        "id": "d00ce2ec"
      },
      "source": [
        "<i>I am interested in data science because data i want to become a datascietist under the industry of Real Estate ,I want to be able help clients to make make best real Estate investments\n",
        ", having huge command of Data science it will personally help me to make good business decisions. <i>"
      ]
    },
    {
      "cell_type": "markdown",
      "source": [
        "# There are many langauges\n",
        "- Ruby\n",
        "- pythob\n",
        "- java\n",
        "- scala\n",
        "# My favrouite language is\n",
        " ## Python"
      ],
      "metadata": {
        "id": "WLLGjkOIkH03"
      },
      "id": "WLLGjkOIkH03"
    },
    {
      "cell_type": "markdown",
      "source": [
        "# There are 3 main libraries\n",
        "- Numpy\n",
        "- Pandas\n",
        "- SciPy\n"
      ],
      "metadata": {
        "id": "0fKQMDDDk3t2"
      },
      "id": "0fKQMDDDk3t2"
    },
    {
      "cell_type": "markdown",
      "source": [
        "\n",
        "# Data Science tools\n",
        "\n",
        "| Tool Name            | Description                                         |\n",
        "|----------------------|-----------------------------------------------------|\n",
        "| Python               | A versatile programming language for data analysis |\n",
        "| Jupyter Notebook     | An interactive environment for data analysis      |\n",
        "| R                    | A statistical programming language                  |\n",
        "| Pandas               | Data manipulation and analysis library in Python  |\n",
        "| NumPy                | Fundamental package for scientific computing in Python |\n",
        "| Scikit-Learn         | Machine learning library for Python                |\n",
        "| TensorFlow           | An open-source machine learning framework          |\n",
        "| PyTorch              | An open-source machine learning library            |\n",
        "| Matplotlib           | A 2D plotting library for creating visualizations  |\n",
        "| Seaborn              | Data visualization library based on Matplotlib    |\n",
        "| Tableau              | A data visualization tool for creating interactive dashboards |\n",
        "| SQL                  | Language for managing and querying relational databases |\n",
        "| Excel                | Spreadsheet software for data analysis            |\n"
      ],
      "metadata": {
        "id": "bOjz7J5mlfkt"
      },
      "id": "bOjz7J5mlfkt"
    },
    {
      "cell_type": "markdown",
      "source": [
        "## Arithmetic Expression Examples\n",
        "\n",
        "Arithmetic expressions are fundamental in mathematics and programming. They involve basic mathematical operations like addition, subtraction, multiplication, and division. Understanding arithmetic expressions is crucial in data science and programming. Here, we'll explore some common arithmetic expressions:\n",
        "\n",
        "- **Addition**: Adding two or more numbers together.\n",
        "\n",
        "  Example: `2 + 3 = 5`\n",
        "\n",
        "- **Subtraction**: Finding the difference between two numbers.\n",
        "\n",
        "  Example: `7 - 4 = 3`\n",
        "\n",
        "- **Multiplication**: Multiplying two or more numbers.\n",
        "\n",
        "  Example: `5 * 6 = 30`\n",
        "\n",
        "- **Division**: Dividing one number by another.\n",
        "\n",
        "  Example: `10 / 2 = 5`\n",
        "\n",
        "- **Exponentiation**: Raising a number to a power.\n",
        "\n",
        "  Example: `2^3 = 8` (2 raised to the power of 3)\n",
        "\n",
        "- **Modulus**: Finding the remainder when one number is divided by another.\n",
        "\n",
        "  Example: `10 % 3 = 1` (Remainder when 10 is divided by 3)\n",
        "\n",
        "These are the basic building blocks for more complex mathematical operations and data manipulation in data science and programming.\n"
      ],
      "metadata": {
        "id": "8P8aNFd8l3EG"
      },
      "id": "8P8aNFd8l3EG"
    },
    {
      "cell_type": "code",
      "source": [
        "# Multiplying and Adding numbers in Python\n",
        "\n",
        "## Multiply two numbers\n",
        "num1 = 5\n",
        "num2 = 3\n",
        "result_multiply = num1 * num2\n",
        "print(\"Multiplication Result:\", result_multiply)\n",
        "\n",
        "## Add two numbers\n",
        "num3 = 7\n",
        "num4 = 2\n",
        "result_add = num3 + num4\n",
        "print(\"Addition Result:\", result_add)"
      ],
      "metadata": {
        "colab": {
          "base_uri": "https://localhost:8080/"
        },
        "id": "R6ytJDfnmHat",
        "outputId": "d8a172c9-c468-4560-ba5b-28dec206ef2a"
      },
      "id": "R6ytJDfnmHat",
      "execution_count": 2,
      "outputs": [
        {
          "output_type": "stream",
          "name": "stdout",
          "text": [
            "Multiplication Result: 15\n",
            "Addition Result: 9\n"
          ]
        }
      ]
    },
    {
      "cell_type": "markdown",
      "source": [],
      "metadata": {
        "id": "x12u-PDhmDuW"
      },
      "id": "x12u-PDhmDuW"
    },
    {
      "cell_type": "markdown",
      "id": "ecea0c6a",
      "metadata": {
        "id": "ecea0c6a"
      },
      "source": [
        "# - Convert Minutes to Hours."
      ]
    },
    {
      "cell_type": "code",
      "execution_count": 3,
      "id": "13732add",
      "metadata": {
        "colab": {
          "base_uri": "https://localhost:8080/"
        },
        "id": "13732add",
        "outputId": "13cc5619-f21c-4eac-cbc0-440a7125b342"
      },
      "outputs": [
        {
          "output_type": "stream",
          "name": "stdout",
          "text": [
            "Today's Date and Time is  2023-09-26 13:07:24.616083\n"
          ]
        }
      ],
      "source": [
        "# Input: Number of minutes\n",
        "minutes = 120\n",
        "\n",
        "# Convert minutes to hours\n",
        "hours = minutes / 60\n",
        "\n",
        "# Output the result\n",
        "print(f\"{minutes} minutes is equal to {hours} hours\")"
      ]
    },
    {
      "cell_type": "markdown",
      "source": [
        "## Objectives\n",
        "\n",
        "1. **Data Collection**: Gather relevant data from various sources, ensuring it's clean and structured.\n",
        "\n",
        "2. **Data Exploration**: Explore the dataset to gain insights into its characteristics, such as data distributions, outliers, and missing values.\n",
        "\n",
        "3. **Data Preprocessing**: Preprocess the data by handling missing values, encoding categorical variables, and scaling numerical features.\n",
        "\n",
        "4. **Feature Engineering**: Create new features or transform existing ones to improve the model's predictive power.\n",
        "\n",
        "5. **Model Development**: Build and train predictive models using machine learning algorithms.\n",
        "\n",
        "6. **Model Evaluation**: Assess the models' performance through appropriate metrics like accuracy, precision, recall, and F1 score.\n",
        "\n",
        "7. **Hyperparameter Tuning**: Optimize model hyperparameters to improve predictive performance.\n",
        "\n",
        "8. **Model Interpretation**: Interpret the model's results to understand feature importance and make actionable recommendations.\n",
        "\n",
        "9. **Visualization**: Create data visualizations to communicate findings effectively to stakeholders.\n",
        "\n",
        "10. **Documentation**: Maintain detailed documentation of the entire data science process, including data sources, methodologies, and results.\n",
        "\n",
        "11. **Deployment**: If applicable, deploy the model into a production environment for real-world use.\n",
        "\n",
        "12. **Monitoring and Maintenance**: Continuously monitor and update the model to ensure it performs well over time.\n",
        "\n",
        "13. **Presentation**: Prepare a presentation or report to share the project's findings and outcomes with stakeholders.\n",
        "\n",
        "These objectives provide a structured approach to a data science project, from data collection to presenting the results.\n"
      ],
      "metadata": {
        "id": "hS2p5ZV8nICd"
      },
      "id": "hS2p5ZV8nICd"
    },
    {
      "cell_type": "markdown",
      "source": [
        "- [Sajjad Ali](https://github.com/sajjadlaghari) -  \"Click Sajjad Ali and Visit my Github Profile\""
      ],
      "metadata": {
        "id": "IIiYs_mqnXVs"
      },
      "id": "IIiYs_mqnXVs"
    }
  ],
  "metadata": {
    "kernelspec": {
      "display_name": "Python 3 (ipykernel)",
      "language": "python",
      "name": "python3"
    },
    "language_info": {
      "codemirror_mode": {
        "name": "ipython",
        "version": 3
      },
      "file_extension": ".py",
      "mimetype": "text/x-python",
      "name": "python",
      "nbconvert_exporter": "python",
      "pygments_lexer": "ipython3",
      "version": "3.9.7"
    },
    "colab": {
      "provenance": [],
      "toc_visible": true
    }
  },
  "nbformat": 4,
  "nbformat_minor": 5
}